{
 "cells": [
  {
   "cell_type": "code",
   "execution_count": 2,
   "id": "80640dfd",
   "metadata": {},
   "outputs": [],
   "source": [
    "import pandas as pd\n",
    "\n",
    "from sklearn.preprocessing import OneHotEncoder\n",
    "from sklearn.preprocessing import OrdinalEncoder"
   ]
  },
  {
   "cell_type": "code",
   "execution_count": 3,
   "id": "fce991dc",
   "metadata": {},
   "outputs": [],
   "source": [
    "def transform_cabin( cabin_nb ):\n",
    "    \n",
    "#    print('This is print:', cabin_nb)\n",
    "    deck, num, side = cabin_nb.split('/')\n",
    "    \n",
    "    num = int(num)\n",
    "    \n",
    "    if side == 'P':\n",
    "        side = 0\n",
    "        \n",
    "    else:\n",
    "        side = 1\n",
    "    \n",
    "    return([deck, num, side])\n",
    "\n",
    "def transform_side( cabin_nb ):\n",
    "    \n",
    "    side = cabin_nb.split('/')[2]\n",
    "    \n",
    "    if side == 'P':\n",
    "        side = 1\n",
    "    \n",
    "    elif side == 'S':\n",
    "        side = -1\n",
    "    \n",
    "    else:\n",
    "        side = 0\n",
    "        \n",
    "    return side"
   ]
  },
  {
   "cell_type": "code",
   "execution_count": 4,
   "id": "f0514e36",
   "metadata": {},
   "outputs": [
    {
     "name": "stderr",
     "output_type": "stream",
     "text": [
      "/home/philipp/.local/lib/python3.10/site-packages/sklearn/preprocessing/_encoders.py:808: FutureWarning: `sparse` was renamed to `sparse_output` in version 1.2 and will be removed in 1.4. `sparse_output` is ignored unless you leave `sparse` to its default value.\n",
      "  warnings.warn(\n"
     ]
    }
   ],
   "source": [
    "data = pd.read_csv('data/train.csv')\n",
    "\n",
    "\n",
    "y = data['Transported']\n",
    "X = data.drop(['Transported'], axis=1)\n",
    "\n",
    "X['CryoSleep'].value_counts()\n",
    "X['HomePlanet'].value_counts()\n",
    "X['VIP'].value_counts()\n",
    "\n",
    "# I drop the name because most of them appear once (why are there some which appear more often?)\n",
    "# If no grouping after name is done it should be random. For first try this is good enough.\n",
    "\n",
    "X = X.drop(['Name'], axis = 1)\n",
    "#\n",
    "\n",
    "# I use false as filler for nan because false is the most frequent\n",
    "X['CryoSleep'] = (X['CryoSleep'].fillna(False)).astype(int)\n",
    "X['VIP'] = (X['VIP'].fillna(False)).astype(int)\n",
    "X['HomePlanet'] = X['HomePlanet'].fillna('Earth')\n",
    "\n",
    "X['PassengerId'] = X['PassengerId'].map(lambda ID: int(ID.split('_')[0]))\n",
    "\n",
    "# There are 3 home origins. Take one hot encoding\n",
    "\n",
    "# Apply one-hot encoder to each column with categorical data\n",
    "OH_encoder = OneHotEncoder(handle_unknown='ignore', sparse=False)\n",
    "OH_cols_train = pd.DataFrame(OH_encoder.fit_transform(X[['HomePlanet', 'Destination']]))\n",
    "\n",
    "# One-hot encoding removed index; put it back\n",
    "OH_cols_train.index = X.index\n",
    "\n",
    "# Remove categorical columns (will replace with one-hot encoding)\n",
    "num_X = X.drop(['HomePlanet', 'Destination'], axis=1)\n",
    "\n",
    "# Add one-hot encoded columns to numerical features\n",
    "X = pd.concat([num_X, OH_cols_train], axis=1)\n",
    "\n",
    "    \n",
    "X['Cabin'] = X['Cabin'].fillna('U/-1/U')\n",
    "\n",
    "X['Floor'] = X['Cabin'].apply(lambda cabin_nb: cabin_nb.split('/')[0])\n",
    "X['Seat']  = X['Cabin'].apply(lambda cabin_nb: int(cabin_nb.split('/')[1]))\n",
    "X['Side']  = X['Cabin'].apply(transform_side)\n",
    "X = X.drop(['Cabin'], axis=1)\n",
    "\n",
    "Normalize_col = ['PassengerId', 'Age', 'RoomService', 'FoodCourt', 'ShoppingMall', 'Spa', 'VRDeck', 'Seat']\n",
    "X[Normalize_col] = X[Normalize_col] / X[Normalize_col].max()\n",
    "\n",
    "\n",
    "\n",
    "# Apply ordinal encoder to each column with categorical data\n",
    "ordinal_encoder = OrdinalEncoder()\n",
    "X['Floor'] = ordinal_encoder.fit_transform(X[['Floor']])\n",
    "\n",
    "services = ['RoomService', 'FoodCourt', 'ShoppingMall', 'Spa', 'VRDeck']\n",
    "X[services] = X[services].fillna(0)\n",
    "X = X.fillna(0)"
   ]
  },
  {
   "cell_type": "code",
   "execution_count": 5,
   "id": "4cab83a8",
   "metadata": {},
   "outputs": [
    {
     "data": {
      "text/html": [
       "<div>\n",
       "<style scoped>\n",
       "    .dataframe tbody tr th:only-of-type {\n",
       "        vertical-align: middle;\n",
       "    }\n",
       "\n",
       "    .dataframe tbody tr th {\n",
       "        vertical-align: top;\n",
       "    }\n",
       "\n",
       "    .dataframe thead th {\n",
       "        text-align: right;\n",
       "    }\n",
       "</style>\n",
       "<table border=\"1\" class=\"dataframe\">\n",
       "  <thead>\n",
       "    <tr style=\"text-align: right;\">\n",
       "      <th></th>\n",
       "      <th>PassengerId</th>\n",
       "      <th>CryoSleep</th>\n",
       "      <th>Age</th>\n",
       "      <th>VIP</th>\n",
       "      <th>RoomService</th>\n",
       "      <th>FoodCourt</th>\n",
       "      <th>ShoppingMall</th>\n",
       "      <th>Spa</th>\n",
       "      <th>VRDeck</th>\n",
       "      <th>0</th>\n",
       "      <th>1</th>\n",
       "      <th>2</th>\n",
       "      <th>3</th>\n",
       "      <th>4</th>\n",
       "      <th>5</th>\n",
       "      <th>6</th>\n",
       "      <th>Floor</th>\n",
       "      <th>Seat</th>\n",
       "      <th>Side</th>\n",
       "    </tr>\n",
       "  </thead>\n",
       "  <tbody>\n",
       "    <tr>\n",
       "      <th>0</th>\n",
       "      <td>0.000108</td>\n",
       "      <td>0</td>\n",
       "      <td>0.493671</td>\n",
       "      <td>0</td>\n",
       "      <td>0.000000</td>\n",
       "      <td>0.000000</td>\n",
       "      <td>0.000000</td>\n",
       "      <td>0.000000</td>\n",
       "      <td>0.000000</td>\n",
       "      <td>0.0</td>\n",
       "      <td>1.0</td>\n",
       "      <td>0.0</td>\n",
       "      <td>0.0</td>\n",
       "      <td>0.0</td>\n",
       "      <td>1.0</td>\n",
       "      <td>0.0</td>\n",
       "      <td>1.0</td>\n",
       "      <td>0.000000</td>\n",
       "      <td>1</td>\n",
       "    </tr>\n",
       "    <tr>\n",
       "      <th>1</th>\n",
       "      <td>0.000216</td>\n",
       "      <td>0</td>\n",
       "      <td>0.303797</td>\n",
       "      <td>0</td>\n",
       "      <td>0.007608</td>\n",
       "      <td>0.000302</td>\n",
       "      <td>0.001064</td>\n",
       "      <td>0.024500</td>\n",
       "      <td>0.001823</td>\n",
       "      <td>1.0</td>\n",
       "      <td>0.0</td>\n",
       "      <td>0.0</td>\n",
       "      <td>0.0</td>\n",
       "      <td>0.0</td>\n",
       "      <td>1.0</td>\n",
       "      <td>0.0</td>\n",
       "      <td>5.0</td>\n",
       "      <td>0.000000</td>\n",
       "      <td>-1</td>\n",
       "    </tr>\n",
       "    <tr>\n",
       "      <th>2</th>\n",
       "      <td>0.000323</td>\n",
       "      <td>0</td>\n",
       "      <td>0.734177</td>\n",
       "      <td>1</td>\n",
       "      <td>0.003001</td>\n",
       "      <td>0.119948</td>\n",
       "      <td>0.000000</td>\n",
       "      <td>0.299670</td>\n",
       "      <td>0.002030</td>\n",
       "      <td>0.0</td>\n",
       "      <td>1.0</td>\n",
       "      <td>0.0</td>\n",
       "      <td>0.0</td>\n",
       "      <td>0.0</td>\n",
       "      <td>1.0</td>\n",
       "      <td>0.0</td>\n",
       "      <td>0.0</td>\n",
       "      <td>0.000000</td>\n",
       "      <td>-1</td>\n",
       "    </tr>\n",
       "    <tr>\n",
       "      <th>3</th>\n",
       "      <td>0.000323</td>\n",
       "      <td>0</td>\n",
       "      <td>0.417722</td>\n",
       "      <td>0</td>\n",
       "      <td>0.000000</td>\n",
       "      <td>0.043035</td>\n",
       "      <td>0.015793</td>\n",
       "      <td>0.148563</td>\n",
       "      <td>0.007997</td>\n",
       "      <td>0.0</td>\n",
       "      <td>1.0</td>\n",
       "      <td>0.0</td>\n",
       "      <td>0.0</td>\n",
       "      <td>0.0</td>\n",
       "      <td>1.0</td>\n",
       "      <td>0.0</td>\n",
       "      <td>0.0</td>\n",
       "      <td>0.000000</td>\n",
       "      <td>-1</td>\n",
       "    </tr>\n",
       "    <tr>\n",
       "      <th>4</th>\n",
       "      <td>0.000431</td>\n",
       "      <td>0</td>\n",
       "      <td>0.202532</td>\n",
       "      <td>0</td>\n",
       "      <td>0.021149</td>\n",
       "      <td>0.002348</td>\n",
       "      <td>0.006428</td>\n",
       "      <td>0.025214</td>\n",
       "      <td>0.000083</td>\n",
       "      <td>1.0</td>\n",
       "      <td>0.0</td>\n",
       "      <td>0.0</td>\n",
       "      <td>0.0</td>\n",
       "      <td>0.0</td>\n",
       "      <td>1.0</td>\n",
       "      <td>0.0</td>\n",
       "      <td>5.0</td>\n",
       "      <td>0.000528</td>\n",
       "      <td>-1</td>\n",
       "    </tr>\n",
       "  </tbody>\n",
       "</table>\n",
       "</div>"
      ],
      "text/plain": [
       "   PassengerId  CryoSleep       Age  VIP  RoomService  FoodCourt  \\\n",
       "0     0.000108          0  0.493671    0     0.000000   0.000000   \n",
       "1     0.000216          0  0.303797    0     0.007608   0.000302   \n",
       "2     0.000323          0  0.734177    1     0.003001   0.119948   \n",
       "3     0.000323          0  0.417722    0     0.000000   0.043035   \n",
       "4     0.000431          0  0.202532    0     0.021149   0.002348   \n",
       "\n",
       "   ShoppingMall       Spa    VRDeck    0    1    2    3    4    5    6  Floor  \\\n",
       "0      0.000000  0.000000  0.000000  0.0  1.0  0.0  0.0  0.0  1.0  0.0    1.0   \n",
       "1      0.001064  0.024500  0.001823  1.0  0.0  0.0  0.0  0.0  1.0  0.0    5.0   \n",
       "2      0.000000  0.299670  0.002030  0.0  1.0  0.0  0.0  0.0  1.0  0.0    0.0   \n",
       "3      0.015793  0.148563  0.007997  0.0  1.0  0.0  0.0  0.0  1.0  0.0    0.0   \n",
       "4      0.006428  0.025214  0.000083  1.0  0.0  0.0  0.0  0.0  1.0  0.0    5.0   \n",
       "\n",
       "       Seat  Side  \n",
       "0  0.000000     1  \n",
       "1  0.000000    -1  \n",
       "2  0.000000    -1  \n",
       "3  0.000000    -1  \n",
       "4  0.000528    -1  "
      ]
     },
     "execution_count": 5,
     "metadata": {},
     "output_type": "execute_result"
    }
   ],
   "source": [
    "X.head()"
   ]
  },
  {
   "cell_type": "code",
   "execution_count": 41,
   "id": "14e8318e",
   "metadata": {},
   "outputs": [
    {
     "name": "stdout",
     "output_type": "stream",
     "text": [
      "0    0.000000\n",
      "1    0.001064\n",
      "2    0.000000\n",
      "3    0.015793\n",
      "4    0.006428\n",
      "Name: ShoppingMall, dtype: float64\n"
     ]
    },
    {
     "data": {
      "text/plain": [
       "0    0.000000\n",
       "1    0.001064\n",
       "2    0.000000\n",
       "3    0.015669\n",
       "4    0.006407\n",
       "Name: ShoppingMall, dtype: float64"
      ]
     },
     "execution_count": 41,
     "metadata": {},
     "output_type": "execute_result"
    }
   ],
   "source": [
    "import numpy as np\n",
    "print(X['ShoppingMall'].head())\n",
    "\n",
    "test = np.log(X['ShoppingMall']+1)\n",
    "test.head()"
   ]
  },
  {
   "cell_type": "code",
   "execution_count": 44,
   "id": "e77101a6",
   "metadata": {},
   "outputs": [
    {
     "data": {
      "text/plain": [
       "0.0010634343531965307"
      ]
     },
     "execution_count": 44,
     "metadata": {},
     "output_type": "execute_result"
    }
   ],
   "source": [
    "np.log(0.001064+1)"
   ]
  },
  {
   "cell_type": "code",
   "execution_count": 6,
   "id": "67b9d3ca",
   "metadata": {},
   "outputs": [],
   "source": [
    "from sklearn.model_selection import train_test_split\n",
    "\n",
    "X_train, X_test, y_train, y_test = train_test_split(X, y, test_size=0.33, random_state=42)"
   ]
  },
  {
   "cell_type": "code",
   "execution_count": 17,
   "id": "973c1f94",
   "metadata": {},
   "outputs": [],
   "source": [
    "from sklearn.ensemble import RandomForestRegressor\n",
    "from sklearn.metrics import mean_absolute_error\n",
    "from tensorflow import keras\n",
    "from tensorflow.keras import layers\n",
    "\n",
    "model = keras.Sequential([\n",
    "    \n",
    "    layers.Dense(19, activation='relu', input_shape=[19,]),\n",
    "    layers.Dropout(0.5),\n",
    "    layers.BatchNormalization(),\n",
    "    #layers.Dense(19, activation='relu', input_shape=[19,]),\n",
    "    #layers.Dropout(0.3),\n",
    "    #layers.Dense(12, activation='relu', input_shape=[19,]),\n",
    "    #layers.Dropout(0.3),\n",
    "    layers.Dense(10, activation='relu', input_shape=[19,]),\n",
    "    layers.Dropout(0.3),\n",
    "    layers.BatchNormalization(),\n",
    "    layers.Dense(5, activation='relu', input_shape=[19,]),\n",
    "    layers.Dropout(0.3),\n",
    "    layers.BatchNormalization(),\n",
    "    layers.Dense(1, activation='sigmoid', input_shape=[19,]),\n",
    "\n",
    "])\n",
    "\n",
    "#"
   ]
  },
  {
   "cell_type": "code",
   "execution_count": 24,
   "id": "409fc2e8",
   "metadata": {},
   "outputs": [],
   "source": [
    "from tensorflow import keras\n",
    "from tensorflow.keras import layers, callbacks\n",
    "\n",
    "\n",
    "early_stopping = callbacks.EarlyStopping(\n",
    "    min_delta=0.001, # minimium amount of change to count as an improvement\n",
    "    patience=40, # how many epochs to wait before stopping\n",
    "    restore_best_weights=True,\n",
    ")\n",
    "\n",
    "model.compile(\n",
    "    optimizer='adam',\n",
    "    loss='binary_crossentropy',\n",
    "    metrics=['binary_accuracy']\n",
    ")\n",
    "\n",
    "history = model.fit(X_train, y_train, validation_data=[X_test, y_test],\n",
    "                batch_size=310,\n",
    "                epochs=2000,\n",
    "                #callbacks=[early_stopping],\n",
    "                verbose=0    \n",
    "                   )"
   ]
  },
  {
   "cell_type": "code",
   "execution_count": 25,
   "id": "46a66d55",
   "metadata": {},
   "outputs": [
    {
     "data": {
      "image/png": "[encoded data removed]",
      "text/plain": [
       "<Figure size 432x288 with 1 Axes>"
      ]
     },
     "metadata": {
      "needs_background": "light"
     },
     "output_type": "display_data"
    }
   ],
   "source": [
    "# convert the training history to a dataframe\n",
    "history_df = pd.DataFrame(history.history)\n",
    "# use Pandas native plot method\n",
    "history_df['loss'].plot();"
   ]
  },
  {
   "cell_type": "markdown",
   "id": "0109abbe",
   "metadata": {},
   "source": [
    "print(X_train.shape)\n",
    "X_test.shape"
   ]
  },
  {
   "cell_type": "code",
   "execution_count": 26,
   "id": "d8fcd724",
   "metadata": {},
   "outputs": [
    {
     "name": "stdout",
     "output_type": "stream",
     "text": [
      "90/90 [==============================] - 0s 437us/step\n"
     ]
    },
    {
     "data": {
      "text/plain": [
       "0.786265600093309"
      ]
     },
     "execution_count": 26,
     "metadata": {},
     "output_type": "execute_result"
    }
   ],
   "source": [
    "from sklearn.metrics import balanced_accuracy_score\n",
    "\n",
    "preds = (model.predict(X_test) > 0.5).astype('int32')\n",
    "bacc_nn = balanced_accuracy_score(y_test, preds)\n",
    "bacc_nn"
   ]
  },
  {
   "cell_type": "code",
   "execution_count": 27,
   "id": "80259163",
   "metadata": {},
   "outputs": [],
   "source": [
    "X_valid = pd.read_csv('data/test.csv')\n",
    "\n",
    "\n",
    "# I drop the name because most of them appear once (why are there some which appear more often?)\n",
    "# If no grouping after name is done it should be random. For first try this is good enough.\n",
    "\n",
    "X_valid = X_valid.drop(['Name'], axis = 1)\n",
    "#\n",
    "\n",
    "# I use false as filler for nan because false is the most frequent\n",
    "X_valid['CryoSleep'] = (X_valid['CryoSleep'].fillna(False)).astype(int)\n",
    "X_valid['VIP'] = (X_valid['VIP'].fillna(False)).astype(int)\n",
    "X_valid['HomePlanet'] = X_valid['HomePlanet'].fillna('Earth')\n",
    "\n",
    "X_valid['PassengerId'] = X_valid['PassengerId'].map(lambda ID: int(ID.split('_')[0]))"
   ]
  },
  {
   "cell_type": "code",
   "execution_count": 195,
   "id": "4eda1003",
   "metadata": {},
   "outputs": [
    {
     "name": "stderr",
     "output_type": "stream",
     "text": [
      "/home/philipp/.local/lib/python3.10/site-packages/sklearn/preprocessing/_encoders.py:808: FutureWarning: `sparse` was renamed to `sparse_output` in version 1.2 and will be removed in 1.4. `sparse_output` is ignored unless you leave `sparse` to its default value.\n",
      "  warnings.warn(\n"
     ]
    }
   ],
   "source": [
    "# There are 3 home origins. Take one hot encoding\n",
    "\n",
    "OH_cols_train = pd.DataFrame(OH_encoder.fit_transform(X_valid[['HomePlanet', 'Destination']]))\n",
    "\n",
    "# One-hot encoding removed index; put it back\n",
    "OH_cols_train.index = X_valid.index\n",
    "\n",
    "# Remove categorical columns (will replace with one-hot encoding)\n",
    "num_X_valid = X_valid.drop(['HomePlanet', 'Destination'], axis=1)\n",
    "\n",
    "# Add one-hot encoded columns to numerical features\n",
    "X_valid = pd.concat([num_X_valid, OH_cols_train], axis=1)"
   ]
  },
  {
   "cell_type": "code",
   "execution_count": 196,
   "id": "ba1dbb41",
   "metadata": {},
   "outputs": [],
   "source": [
    "    \n",
    "X_valid['Cabin'] = X_valid['Cabin'].fillna('U/-1/U')\n",
    "\n",
    "X_valid['Floor'] = X_valid['Cabin'].apply(lambda cabin_nb: cabin_nb.split('/')[0])\n",
    "X_valid['Seat']  = X_valid['Cabin'].apply(lambda cabin_nb: int(cabin_nb.split('/')[1]))\n",
    "X_valid['Side']  = X_valid['Cabin'].apply(transform_side)\n",
    "X_valid = X_valid.drop(['Cabin'], axis=1)"
   ]
  },
  {
   "cell_type": "code",
   "execution_count": 197,
   "id": "a41c8afd",
   "metadata": {},
   "outputs": [],
   "source": [
    "Normalize_col = ['PassengerId', 'Age', 'RoomService', 'FoodCourt', 'ShoppingMall', 'Spa', 'VRDeck', 'Seat']\n",
    "X_valid[Normalize_col] = X_valid[Normalize_col] / X_valid[Normalize_col].max()"
   ]
  },
  {
   "cell_type": "code",
   "execution_count": 198,
   "id": "4a0a2d35",
   "metadata": {},
   "outputs": [],
   "source": [
    "# Apply ordinal encoder to each column with categorical data\n",
    "ordinal_encoder = OrdinalEncoder()\n",
    "X_valid['Floor'] = ordinal_encoder.fit_transform(X_valid[['Floor']])\n",
    "\n",
    "services = ['RoomService', 'FoodCourt', 'ShoppingMall', 'Spa', 'VRDeck']\n",
    "X_valid[services] = X_valid[services].fillna(0)\n",
    "X_valid = X_valid.fillna(0)"
   ]
  },
  {
   "cell_type": "code",
   "execution_count": 200,
   "id": "0bd5e384",
   "metadata": {},
   "outputs": [
    {
     "name": "stdout",
     "output_type": "stream",
     "text": [
      "134/134 [==============================] - 0s 355us/step\n"
     ]
    },
    {
     "data": {
      "text/html": [
       "<div>\n",
       "<style scoped>\n",
       "    .dataframe tbody tr th:only-of-type {\n",
       "        vertical-align: middle;\n",
       "    }\n",
       "\n",
       "    .dataframe tbody tr th {\n",
       "        vertical-align: top;\n",
       "    }\n",
       "\n",
       "    .dataframe thead th {\n",
       "        text-align: right;\n",
       "    }\n",
       "</style>\n",
       "<table border=\"1\" class=\"dataframe\">\n",
       "  <thead>\n",
       "    <tr style=\"text-align: right;\">\n",
       "      <th></th>\n",
       "      <th>PassengerId</th>\n",
       "      <th>Transported</th>\n",
       "    </tr>\n",
       "  </thead>\n",
       "  <tbody>\n",
       "    <tr>\n",
       "      <th>0</th>\n",
       "      <td>0013_01</td>\n",
       "      <td>False</td>\n",
       "    </tr>\n",
       "    <tr>\n",
       "      <th>1</th>\n",
       "      <td>0018_01</td>\n",
       "      <td>False</td>\n",
       "    </tr>\n",
       "    <tr>\n",
       "      <th>2</th>\n",
       "      <td>0019_01</td>\n",
       "      <td>False</td>\n",
       "    </tr>\n",
       "    <tr>\n",
       "      <th>3</th>\n",
       "      <td>0021_01</td>\n",
       "      <td>False</td>\n",
       "    </tr>\n",
       "    <tr>\n",
       "      <th>4</th>\n",
       "      <td>0023_01</td>\n",
       "      <td>False</td>\n",
       "    </tr>\n",
       "  </tbody>\n",
       "</table>\n",
       "</div>"
      ],
      "text/plain": [
       "  PassengerId  Transported\n",
       "0     0013_01        False\n",
       "1     0018_01        False\n",
       "2     0019_01        False\n",
       "3     0021_01        False\n",
       "4     0023_01        False"
      ]
     },
     "execution_count": 200,
     "metadata": {},
     "output_type": "execute_result"
    }
   ],
   "source": [
    "preds = (model.predict(X_valid) > 0.5).astype(int)\n",
    "\n",
    "# Sample submission (to get right format)\n",
    "sub=pd.read_csv('data/sample_submission.csv')\n",
    "sub.head()"
   ]
  },
  {
   "cell_type": "code",
   "execution_count": 203,
   "id": "db42b8ba",
   "metadata": {},
   "outputs": [],
   "source": [
    "# Sample submission (to get right format)\n",
    "sub=pd.read_csv('data/sample_submission.csv')\n",
    "\n",
    "# Add predictions\n",
    "sub['Transported'] = preds\n",
    "\n",
    "# Replace 0 to False and 1 to True\n",
    "sub=sub.replace({0:False, 1:True})\n",
    "\n",
    "# Prediction distribution\n",
    "#plt.figure(figsize=(6,6))\n",
    "#sub['Transported'].value_counts().plot.pie(explode=[0.1,0.1], autopct='%1.1f%%', shadow=True, textprops={'fontsize':16}).set_title(\"Prediction distribution\")\n",
    "# Output to csv\n",
    "sub.to_csv('submission.csv', index=False)"
   ]
  },
  {
   "cell_type": "code",
   "execution_count": 204,
   "id": "ad63394a",
   "metadata": {},
   "outputs": [
    {
     "data": {
      "text/plain": [
       "array([[0],\n",
       "       [0],\n",
       "       [1],\n",
       "       ...,\n",
       "       [1],\n",
       "       [1],\n",
       "       [1]])"
      ]
     },
     "execution_count": 204,
     "metadata": {},
     "output_type": "execute_result"
    }
   ],
   "source": [
    "preds"
   ]
  },
  {
   "cell_type": "code",
   "execution_count": null,
   "id": "be4dbfcd",
   "metadata": {},
   "outputs": [],
   "source": []
  }
 ],
 "metadata": {
  "kernelspec": {
   "display_name": "Python 3 (ipykernel)",
   "language": "python",
   "name": "python3"
  },
  "language_info": {
   "codemirror_mode": {
    "name": "ipython",
    "version": 3
   },
   "file_extension": ".py",
   "mimetype": "text/x-python",
   "name": "python",
   "nbconvert_exporter": "python",
   "pygments_lexer": "ipython3",
   "version": "3.10.6"
  }
 },
 "nbformat": 4,
 "nbformat_minor": 5
}
