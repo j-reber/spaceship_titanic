{
 "cells": [
  {
   "cell_type": "code",
   "execution_count": 1,
   "id": "9431fb26",
   "metadata": {},
   "outputs": [],
   "source": [
    "import numpy as np\n",
    "import pandas as pd"
   ]
  },
  {
   "cell_type": "code",
   "execution_count": 33,
   "id": "d94d1b12",
   "metadata": {},
   "outputs": [
    {
     "name": "stdout",
     "output_type": "stream",
     "text": [
      "Train set shape: (8693, 14)\n",
      "Test set shape: (4277, 13)\n"
     ]
    }
   ],
   "source": [
    "train = pd.read_csv('data/train.csv')\n",
    "\n",
    "# test is the test set on which we make the final prediction\n",
    "test = pd.read_csv('data/test.csv')\n",
    "\n",
    "# Shape and preview\n",
    "print('Train set shape:', train.shape)\n",
    "print('Test set shape:', test.shape)\n",
    "train.head()\n",
    "\n",
    "# Repalace nans with dummies\n",
    "train['Name']  = train.Name.fillna('Unknown Unknown')\n",
    "train['Cabin'] = train.Cabin.fillna('ZZ/9999/ZZ')\n",
    "\n",
    "train['Floor'] = train['Cabin'].map(lambda cabin: (cabin.split('/'))[0])\n",
    "train['Seat']  = train['Cabin'].map(lambda cabin: (cabin.split('/'))[1])\n",
    "train['Side']  = train['Cabin'].map(lambda cabin: (cabin.split('/'))[2])\n",
    "\n",
    "\n",
    "train = train.drop(['Cabin'], axis=1)\n",
    "\n",
    "# Split PassengerId into group and seat\n",
    "train['Group'] = train['PassengerId'].map(lambda ID: ID.split('_')[0])\n",
    "train['Num']   = train['PassengerId'].map(lambda ID: ID.split('_')[1])\n",
    "\n",
    "train = train.drop(['PassengerId'], axis=1)\n",
    "\n",
    "# group -> indications for name\n",
    "train['Name'] = train['Name'].map(lambda name: name.split(' ')[1])\n",
    "\n",
    "\n",
    "X = train.copy()"
   ]
  },
  {
   "cell_type": "code",
   "execution_count": 34,
   "id": "2197a34b",
   "metadata": {},
   "outputs": [
    {
     "data": {
      "text/plain": [
       "4498    8\n",
       "8168    8\n",
       "8728    8\n",
       "8796    8\n",
       "8956    8\n",
       "       ..\n",
       "3483    1\n",
       "3480    1\n",
       "3478    1\n",
       "3473    1\n",
       "4620    1\n",
       "Name: Group, Length: 6217, dtype: int64"
      ]
     },
     "execution_count": 34,
     "metadata": {},
     "output_type": "execute_result"
    }
   ],
   "source": [
    "train['Group'].value_counts()\n",
    "X.Group.value_counts()"
   ]
  },
  {
   "cell_type": "code",
   "execution_count": 14,
   "id": "a719a84c",
   "metadata": {},
   "outputs": [],
   "source": [
    "# Transform age:\n",
    "def transform_age(age):\n",
    "    \n",
    "    if age == np.nan:\n",
    "        return 'unknown'\n",
    "    \n",
    "    elif age <= 18.0:\n",
    "        return 'child'\n",
    "    \n",
    "    elif age <= 25:\n",
    "        return 'adolescent'\n",
    "    \n",
    "    \n",
    "    return 'adult'\n",
    "    \n",
    "X['Age'] = train['Age'].apply(transform_age)"
   ]
  },
  {
   "cell_type": "code",
   "execution_count": 16,
   "id": "b0f0e41c",
   "metadata": {},
   "outputs": [],
   "source": [
    "expanses_col      = ['RoomService', 'FoodCourt', 'ShoppingMall', 'Spa', 'VRDeck']\n",
    "X['Expanses'] = train[expanses_col].sum(axis=1)\n",
    "\n",
    "#adjust expenses (if expanses = 0 and one of the services is 0 -> 0)\n",
    "\n",
    "for expanse in expanses_col:\n",
    "    X.loc[(X[expanse].isna()) & (X['Expanses'] == 0), expanse] = 0"
   ]
  },
  {
   "cell_type": "code",
   "execution_count": 5,
   "id": "3ec55195",
   "metadata": {},
   "outputs": [],
   "source": [
    "# if people are in CryoSleep they do not spend money => assume inverse holds as well. Makes sense because\n",
    "# otherwise the persons would not even spend money for food\n",
    "X.loc[(X['CryoSleep'].isna()) & (X['Expanses'] == 0) & (X['Age'] != 'child')] = True\n",
    "X.loc[(X['CryoSleep'].isna()) & (X['Expanses'] != 0)] = False"
   ]
  },
  {
   "cell_type": "code",
   "execution_count": null,
   "id": "3146137e",
   "metadata": {},
   "outputs": [],
   "source": [
    "train_adapted.loc[(train_adapted['CryoSleep'].isna()) & (train_adapted['Expanses'] == 0),'CryoSleep'] = True\n",
    "train_adapted.loc[(train_adapted['CryoSleep'].isna()) & (train_adapted['Expanses'] != 0),'CryoSleep'] = False"
   ]
  },
  {
   "cell_type": "code",
   "execution_count": 38,
   "id": "b4de914c",
   "metadata": {},
   "outputs": [
    {
     "data": {
      "text/plain": [
       "1    4805\n",
       "2     841\n",
       "3     340\n",
       "4     103\n",
       "5      53\n",
       "7      33\n",
       "6      29\n",
       "8      13\n",
       "Name: Group, dtype: int64"
      ]
     },
     "execution_count": 38,
     "metadata": {},
     "output_type": "execute_result"
    }
   ],
   "source": [
    "NB_Group = X.Group.value_counts().copy()\n",
    "X['GroupSize'] = X.Group.replace(NB_Group.index, NB_Group)"
   ]
  },
  {
   "cell_type": "code",
   "execution_count": 46,
   "id": "60333409",
   "metadata": {},
   "outputs": [],
   "source": [
    "group_missing_name = X.loc[(X['Name'] == 'Unknown') & (X['GroupSize'] >= 2)]['Group']\n",
    "\n",
    "for group_nb in group_missing_name:\n",
    "    \n",
    "    group_names = X.loc[X['Group'] == group_nb, 'Name'].value_counts()\n",
    "    \n",
    "    # Count different names in group, -1 for the name 'Unknown' which is in all of them\n",
    "    names_count = (group_names.shape)[0] - 1\n",
    "    if names_count == 1:\n",
    "        \n",
    "        unique_name = (group_names.loc[group_names.index != 'Unknown'].index)[0]\n",
    "        X.loc[X['Group'] == group_nb, 'Name'] = unique_name \n",
    "    \n",
    "    else:\n",
    "        most_frequent_names = group_names.loc[group_names == group_names.max()].index\n",
    "        if len(most_frequent_names) == 1:\n",
    "            X.loc[(X['Group'] == group_nb) & (X['Name'] == 'Unknown'), 'Name'] = most_frequent_names[0]\n",
    "\n",
    "group_missing_name = X.loc[(X['Name'] == 'Unknown') & (X['GroupSize'] >= 2)]['Group']        "
   ]
  },
  {
   "cell_type": "code",
   "execution_count": 52,
   "id": "b6691181",
   "metadata": {},
   "outputs": [],
   "source": [
    "# These I do by hand\n",
    "X[(X['Group'] == '2272') & (X['Name'] == 'Unknown'), 'Name'] = 'Kirks'\n",
    "X[(X['Group'] == '2272') & (X['Name'] == 'Unknown'), 'Name'] = 'Horthy'"
   ]
  }
 ],
 "metadata": {
  "kernelspec": {
   "display_name": "Python 3 (ipykernel)",
   "language": "python",
   "name": "python3"
  },
  "language_info": {
   "codemirror_mode": {
    "name": "ipython",
    "version": 3
   },
   "file_extension": ".py",
   "mimetype": "text/x-python",
   "name": "python",
   "nbconvert_exporter": "python",
   "pygments_lexer": "ipython3",
   "version": "3.10.6"
  }
 },
 "nbformat": 4,
 "nbformat_minor": 5
}
